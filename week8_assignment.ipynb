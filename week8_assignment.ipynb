{
  "nbformat": 4,
  "nbformat_minor": 0,
  "metadata": {
    "colab": {
      "provenance": [],
      "authorship_tag": "ABX9TyOUg6ym7KLatZ5riAxbtV2v",
      "include_colab_link": true
    },
    "kernelspec": {
      "name": "python3",
      "display_name": "Python 3"
    },
    "language_info": {
      "name": "python"
    }
  },
  "cells": [
    {
      "cell_type": "markdown",
      "metadata": {
        "id": "view-in-github",
        "colab_type": "text"
      },
      "source": [
        "<a href=\"https://colab.research.google.com/github/Pranjali-Malviya/week8/blob/main/week8_assignment.ipynb\" target=\"_parent\"><img src=\"https://colab.research.google.com/assets/colab-badge.svg\" alt=\"Open In Colab\"/></a>"
      ]
    },
    {
      "cell_type": "code",
      "execution_count": 5,
      "metadata": {
        "colab": {
          "base_uri": "https://localhost:8080/"
        },
        "id": "naIVGvEQ-InZ",
        "outputId": "731bb8b3-f75e-4a45-af57-43fb1e4d6050"
      },
      "outputs": [
        {
          "output_type": "stream",
          "name": "stdout",
          "text": [
            "Enter the 1st number:22\n",
            "Enter the 2nd number:33\n",
            "Enter the 3rd number:4\n",
            "Largest number is 33\n"
          ]
        }
      ],
      "source": [
        "number_1=int(input(\"Enter the 1st number:\"))\n",
        "\n",
        "number_2=int(input(\"Enter the 2nd number:\"))\n",
        "\n",
        "number_3=int(input(\"Enter the 3rd number:\"))\n",
        "\n",
        "l=[number_1,number_2,number_3]\n",
        "l.sort()\n",
        "\n",
        "print(\"Largest number is\", l[2])"
      ]
    }
  ]
}